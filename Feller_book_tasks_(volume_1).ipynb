{
  "nbformat": 4,
  "nbformat_minor": 0,
  "metadata": {
    "colab": {
      "provenance": [],
      "authorship_tag": "ABX9TyO21VcizXBB2s1GQtiX5rRC",
      "include_colab_link": true
    },
    "kernelspec": {
      "name": "python3",
      "display_name": "Python 3"
    },
    "language_info": {
      "name": "python"
    }
  },
  "cells": [
    {
      "cell_type": "markdown",
      "metadata": {
        "id": "view-in-github",
        "colab_type": "text"
      },
      "source": [
        "<a href=\"https://colab.research.google.com/github/diwert-ai/Feller-Book-Tasks/blob/main/Feller_book_tasks_(volume_1).ipynb\" target=\"_parent\"><img src=\"https://colab.research.google.com/assets/colab-badge.svg\" alt=\"Open In Colab\"/></a>"
      ]
    },
    {
      "cell_type": "markdown",
      "source": [
        "# **Глава V.<br/>Условная вероятноcть. Стохастическая независимость.**"
      ],
      "metadata": {
        "id": "3pECFoFoWySq"
      }
    },
    {
      "cell_type": "markdown",
      "source": [
        "## **Задача № 11** 👨‍👩‍👧‍👦\n"
      ],
      "metadata": {
        "id": "Vr0oSV4sXo8L"
      }
    },
    {
      "cell_type": "markdown",
      "source": [
        "### <mark>Условие.</mark>\n",
        "Пусть<a name=\"cite_ref-1\"></a>[<sup>[1]</sup>](#cite_note-1) вероятность $p_n$ того, что в семье ровно $n$ детей, равна $\\alpha p^n$ при $n\\ge 1$, и $p_0 = 1 -  \\alpha p (1 + p + p^2 + \\dots)$. Предположим, что все комбинации полов $n$ детей равновероятны. Показать, что при $k\\ge 1$ вероятность того, что в семье ровно $k$ мальчиков, равна ${2\\alpha p^k}/{(2-p)^{k+1}}$ \n",
        "<br/>\n",
        "<br/>\n",
        "<a name=\"cite_note-1\"></a>1. [^](#cite_ref-1) Согласно Лотка, американская семейная статистика удовлетворяет этой гипотезе с $p = 0.7358$. См. Lotka A.J. Théorie analytique des associations biologiques, v. 2, Actualites scientifiques et industrielles, No. 780(1939), Paris, Hermann et Cie. "
      ],
      "metadata": {
        "id": "p05nN5gCXuqc"
      }
    },
    {
      "cell_type": "markdown",
      "source": [
        "#### <mark>Решение.</mark>\n",
        "1. Учитывая равновероятность комбинаций полов детей при заданном $n$ дискретное пространство элементарных событий $\\mathfrak{S}$ будет устроено следующим образом:\n",
        "\n",
        "| точка пространства <br/>(распределение полов) | вероятность |\n",
        "| --- | --- |\n",
        "| 0 | $p_0$ |\n",
        "| м | $\\frac{p_1}{2}$ |\n",
        "| д | $\\frac{p_1}{2}$ |\n",
        "| мм | $\\frac{p_2}{2^2}$ |\n",
        "| мд | $\\frac{p_2}{2^2}$ |\n",
        "| дм | $\\frac{p_2}{2^2}$ |\n",
        "| дд | $\\frac{p_2}{2^2}$ |\n",
        "| ммм | $\\frac{p_3}{2^3}$ |\n",
        "| ммд | $\\frac{p_3}{2^3}$ |\n",
        "| мдм | $\\frac{p_3}{2^3}$ |\n",
        "| мдд | $\\frac{p_3}{2^3}$|\n",
        "| дмм | $\\frac{p_3}{2^3}$|\n",
        "| дмд | $\\frac{p_3}{2^3}$|\n",
        "| ддм | $\\frac{p_3}{2^3}$|\n",
        "| ддд | $\\frac{p_3}{2^3}$|\n",
        "| и т.д. ...|...|\n",
        "| ... |... |\n",
        "\n",
        "<br/><br/>\n",
        "2. Сначала найдем искомую вероятность $P_k$ для случая $k=1$.\n",
        "<br/><br/>\n",
        "Вероятность того, что в семье ровно 1 мальчик будет складываться из суммы вероятностей точек $\\mathfrak{S}$, в обозначении которых буква 'м' входит ровно 1 раз. Т.е.:<br/>\n",
        "$P_1 = \\alpha (\\frac{1}{2}p + \\frac{2}{2^2}p^2 + \\frac{3}{2^3}p^3 + \\dots) = \\frac{\\alpha p}{2}\\sum\\limits_{i=0}^{\\infty}{{i+1 \\choose 1}(\\frac{p}{2})^i}\\space\\space\\space (*)$,<br/>\n",
        "где ${i+1 \\choose 1}$ биномиальный коэффициент. <br/><br/>\n",
        "Так как для расширенного биномиального коэффициента справедливо ${-r \\choose i} = (-1)^i{r+i-1 \\choose i}$, то разложение Тейлора функции $f(x) = (1+x)^{-2}$ имеет вид $f(x) = \\sum\\limits_{i=0}^{\\infty}{{-2 \\choose i}x^i} = \\sum\\limits_{i=0}^{\\infty}{{i+1 \\choose i}(-1)^i x^i} = \\sum\\limits_{i=0}^{\\infty}{{i+1 \\choose 1}(-1)^i x^i}\\space\\space\\space(**)$.<br/><br/>\n",
        "Заметим также, что $(*)$ можно переписать в виде:<br/>\n",
        "$P_1 = \\frac{\\alpha p}{2}\\sum\\limits_{i=0}^{\\infty}{{i+1 \\choose 1}(-1)^i(-\\frac{p}{2})^i}$<br/><br/>Учитывая $(**)$ получаем:<br/>\n",
        "$P_1 = \\frac{\\alpha p}{2}(1 - \\frac{p}{2})^{-2} = 2\\alpha p/(2 - p)^2$\n",
        "<br/><br/>\n",
        "3. По аналогии рассмотрим теперь $P_2$. Вероятность того, что в семье ровно 2 мальчика будет складываться из суммы вероятностей точек $\\mathfrak{S}$, в обозначении которых буква 'м' встречается дважды. Т.е.:<br/>\n",
        "$P_2 = \\alpha\\left({2 \\choose 2}\\left(\\frac{p}{2}\\right)^2 + {3 \\choose 2}\\left(\\frac{p}{2}\\right)^3 + \\dots \\right) = \\frac{\\alpha p^2}{4}\\sum\\limits_{i=0}^{\\infty}{{i+2 \\choose 2}\\left(\\frac{p}{2}\\right)^i} = \\frac{\\alpha p^2}{4}\\sum\\limits_{i=0}^{\\infty}{{i+2 \\choose 2}(-1)^i\\left(-\\frac{p}{2}\\right)^i}$<br/><br/>\n",
        "С другой стороны:<br/>\n",
        "$(1+x)^{-3} = \\sum\\limits_{i=0}^{\\infty}{{-3 \\choose i}x^i} = \\sum\\limits_{i=0}^{\\infty}{{i+2 \\choose 2}(-1)^i x^i}$<br/>\n",
        "Поэтому:<br/>\n",
        "$P_2 = \\frac{\\alpha p^2}{4}\\left(1 - \\frac{p}{2}\\right)^{-3} = 2\\alpha p^2/(2 - p)^3$<br/><br/>\n",
        "4. И наконец рассмотрим общий случай $P_k$:<br/>\n",
        "$P_k = \\alpha\\left({k \\choose k}\\left(\\frac{p}{2}\\right)^k + {k+1 \\choose k}\\left(\\frac{p}{2}\\right)^{k+1} + \\dots \\right) = \\frac{\\alpha p^k}{2^k}\\sum\\limits_{i=0}^{\\infty}{{i+k \\choose k}(-1)^i\\left(-\\frac{p}{2}\\right)^i}$<br/>\n",
        "И т.к.:<br/>\n",
        "$(1+x)^{-(k+1)} = \\sum\\limits_{i=0}^{\\infty}{{i+k \\choose k}(-1)^i x^i}$,<br/>\n",
        "то:<br/>\n",
        "$P_k = \\frac{\\alpha p^k}{2^k}\\left(1 - \\frac{p}{2}\\right)^{-(k+1)} = 2\\alpha p^k/(2 - p)^{k+1}$, что и требовалось показать."
      ],
      "metadata": {
        "id": "ZMyzPTu_xK34"
      }
    }
  ]
}