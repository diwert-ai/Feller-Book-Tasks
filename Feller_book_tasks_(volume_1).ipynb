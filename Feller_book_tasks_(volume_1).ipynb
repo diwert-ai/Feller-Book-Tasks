{
  "nbformat": 4,
  "nbformat_minor": 0,
  "metadata": {
    "colab": {
      "provenance": [],
      "authorship_tag": "ABX9TyMWObWHgCVO+ZpHZZ7aNIP7",
      "include_colab_link": true
    },
    "kernelspec": {
      "name": "python3",
      "display_name": "Python 3"
    },
    "language_info": {
      "name": "python"
    }
  },
  "cells": [
    {
      "cell_type": "markdown",
      "metadata": {
        "id": "view-in-github",
        "colab_type": "text"
      },
      "source": [
        "<a href=\"https://colab.research.google.com/github/diwert-ai/Feller-Book-Tasks/blob/main/Feller_book_tasks_(volume_1).ipynb\" target=\"_parent\"><img src=\"https://colab.research.google.com/assets/colab-badge.svg\" alt=\"Open In Colab\"/></a>"
      ]
    },
    {
      "cell_type": "markdown",
      "source": [
        "# **Глава V.<br/>Условная вероятноcть. Стохастическая независимость.**"
      ],
      "metadata": {
        "id": "3pECFoFoWySq"
      }
    },
    {
      "cell_type": "markdown",
      "source": [
        "## **Задача № 1** 🎲🎲🎲"
      ],
      "metadata": {
        "id": "tSc_lrjrtRva"
      }
    },
    {
      "cell_type": "markdown",
      "source": [
        "### <mark>Условие.</mark>"
      ],
      "metadata": {
        "id": "sG4GbLXdtiYN"
      }
    },
    {
      "cell_type": "markdown",
      "source": [
        "Бросаются три игральные кости. Какова вероятность того, что на одной из них выпадет 1, если на всех трех выпали разные грани."
      ],
      "metadata": {
        "id": "D4W-AH36tk-t"
      }
    },
    {
      "cell_type": "markdown",
      "source": [
        "#### <mark>Решение.</mark>"
      ],
      "metadata": {
        "id": "KkZDC3FauAS8"
      }
    },
    {
      "cell_type": "markdown",
      "source": [
        "Дискретное пространство элементарных событий $\\mathfrak{S}$ задачи содержит $6^3$ равновероятных событий.\n",
        "Требуется найти условную вероятность $P(A|H)$, где событие $A$ - на одной из трех костей выпала 1, а $H$ - на всех трех выпали разные грани. Т.к. $P(A|H) = \\frac{P(AH)}{P(H)}$, то найдем количество элементарных событий образующих события $AH$ и $H$: $N_{AH} = 6*5*4 = 120$ и $N_{H} = 5*4*3 = 60$. Т.к. все элементарные события равновероятны, то отношение $N_{AH}/N_{H}$ и есть искомая условная вероятность. Таким образом $P(A|H) = N_{AH}/N_{H} = 60/120 = 0.5$"
      ],
      "metadata": {
        "id": "bUIQD5cWTejy"
      }
    },
    {
      "cell_type": "markdown",
      "source": [
        "## **Задача № 2** 🎲🎲🎲🎲🎲🎲🎲🎲🎲🎲"
      ],
      "metadata": {
        "id": "DXltZQPad1De"
      }
    },
    {
      "cell_type": "markdown",
      "source": [
        "### <mark>Условие.</mark>"
      ],
      "metadata": {
        "id": "je6AYVK6eDnH"
      }
    },
    {
      "cell_type": "markdown",
      "source": [
        "Известно, что при бросании десяти игральных костей выпала хотя бы одна единица. Какова вероятность $p$ того, что выпало две и более единиц."
      ],
      "metadata": {
        "id": "R39fOKrseGGB"
      }
    },
    {
      "cell_type": "markdown",
      "source": [
        "#### <mark>Решение.</mark>"
      ],
      "metadata": {
        "id": "V5ccI_bUek_N"
      }
    },
    {
      "cell_type": "markdown",
      "source": [
        "Дискретное пространство элементарных событий $\\mathfrak{S}$ задачи содержит $6^{10}$ равновероятных событий. Искомая вероятность $p$ является условной вероятностью $P(A|H)=P(AH)/P(H)$, где событие $H$ - \"выпало не меньше одной единицы\", а событие $A$ - \"выпало не меньше двух единиц\". <br/>\n",
        "Найдем $P(H)$. Если $p_0$ - это вероятность того, что единица ни разу не выпала, то $P(H)= 1 - p_0$. Очевидно $p_0 = 5^{10}/6^{10}$ и следовательно $P(H) = \\frac{6^{10}-5^{10}}{6^{10}}$<br/>\n",
        "Найдем $P(AH)$. Заметим, что $AH = A$. И если $p1$ - это вероятность, что выпадет ровно одна единица, то $P(AH) = P(A) = 1 - p_0 - p_1 = P(H) - p_1$. При этом очевидно $p_1 = {10 \\choose 1}\\frac{1}{6}\\left(\\frac{5}{6}\\right)^9$.<br/>\n",
        "Таким образом $p = P(A)/P(H) = 1 - p_1/P(H) = 1 - \\frac{10 \\cdot5^9}{6^{10} - 5^{10}}$. Вычисление ниже:"
      ],
      "metadata": {
        "id": "3PCplLS9eout"
      }
    },
    {
      "cell_type": "code",
      "source": [
        "n = 6 ** 10 - 5 ** 10\n",
        "print( 1 - 10 * 5 ** 9 / n)"
      ],
      "metadata": {
        "colab": {
          "base_uri": "https://localhost:8080/"
        },
        "id": "D_dJSiSChQ58",
        "outputId": "fbb4a852-5053-435c-ab10-7399e786dcc6"
      },
      "execution_count": 31,
      "outputs": [
        {
          "output_type": "stream",
          "name": "stdout",
          "text": [
            "0.6147724311714088\n"
          ]
        }
      ]
    },
    {
      "cell_type": "markdown",
      "source": [
        "## **Задача № 3** 🃏 ♦️♠️♥️♣️"
      ],
      "metadata": {
        "id": "CHWDpqZITyNS"
      }
    },
    {
      "cell_type": "markdown",
      "source": [
        "### <mark>Условие.</mark>"
      ],
      "metadata": {
        "id": "oO6_dNJHTzSI"
      }
    },
    {
      "cell_type": "markdown",
      "source": [
        "Бридж. При сдаче карт для игры в бридж игрок \"Запад\" не получил ни одного туза. Какова вероятность того, что его партнер а) не имеет тузов б) имеет не менее двух тузов. Проверить результат не используя формулу условной вероятности."
      ],
      "metadata": {
        "id": "gDn0YPOVT3mG"
      }
    },
    {
      "cell_type": "markdown",
      "source": [
        "#### <mark>Решение.</mark>"
      ],
      "metadata": {
        "id": "H0GE2STKT7za"
      }
    },
    {
      "cell_type": "markdown",
      "source": [
        "В игре бридж существует $N = \\frac{52!}{(13!)^4}$ разных вариантов раздачи карт четырем игрокам. Считая все варианты равновероятными, имеем дискретное пространство элементарных событий $\\mathfrak{S}$, в котором N точек. Вероятность каждой точки $N^{-1}$.<br/><br/>\n",
        "a) Пусть $H$ - это событие \"Игрок \"Запад\" не получил ни одного туза\", а $A$ - \"Его партнер (игрок \"Восток\") не имеет тузов\". Тогда искомая вероятность будет $P(A|H) = P(AH)/P(H)$, так как все элементарные события равновероятны, то  $P(A|H) = N_{AH}/N_{H}$ - отношению количеств элементарных событий в $AH$ и $H$. Найдем эти количества.<br/>\n",
        "$N_H = {48 \\choose 13}{39 \\choose 13}{26 \\choose 13}$ (*Запад получает 13 карт из 48 (колода без тузов), затем следующий игрок получает 13 карт из 39, 3-й игрок получает 13 карт из 26 и 4-му достается оставшиеся 13 карт*)<br/>\n",
        "$N_{AH} = {48 \\choose 13}{35 \\choose 13}{26 \\choose 13}$ (*Запад получает 13 карт из 48 (колода без тузов), затем Восток получает 13 карт из 35 (остаток колоды без тузов), 3-й игрок получает 13 карт из 26 и 4-му достается оставшиеся 13 карт*)</br>\n",
        "Таким образом искомая вероятность есть $p_a=N_{AH}/N_{H} = \\frac{23\\cdot 24\\cdot 25\\cdot 26}{36\\cdot 37\\cdot 38\\cdot 39}$. Вычисление ниже:"
      ],
      "metadata": {
        "id": "sJWCKnszT99Y"
      }
    },
    {
      "cell_type": "code",
      "source": [
        "print(23*24*25*26/36/37/38/39)"
      ],
      "metadata": {
        "colab": {
          "base_uri": "https://localhost:8080/"
        },
        "id": "OKuqSJw-UGIT",
        "outputId": "797ad4f9-6dea-4486-821f-147d3fb3a9cc"
      },
      "execution_count": 26,
      "outputs": [
        {
          "output_type": "stream",
          "name": "stdout",
          "text": [
            "0.18176070807649752\n"
          ]
        }
      ]
    },
    {
      "cell_type": "markdown",
      "source": [
        "б) Событие $H$ остается таким же. Событие $A$ теперь - \"Игрок \"Восток\" имеет не менее двух тузов\". Найдем новое значение $N_{AH}= {48 \\choose 13}\\left({4 \\choose 2}{35 \\choose 11} + {4 \\choose 3}{35 \\choose 10} + {4 \\choose 4}{35 \\choose 9}\\right){26 \\choose 13}$ (*в этом случае у \"Востока\" есть 3 варианта: 2,3 или 4 туза при разадаче - это дает три слагаемых во втором множителе*).<br/>\n",
        "Таким образом искомая вероятность равна $p_b=\\frac{{4 \\choose 2}{35 \\choose 11} + {4 \\choose 3}{35 \\choose 10} + {4 \\choose 4}{35 \\choose 9}}{{39 \\choose 13}}$. Вычисление ниже:"
      ],
      "metadata": {
        "id": "pdCzFdHwVnSb"
      }
    },
    {
      "cell_type": "code",
      "source": [
        "from scipy.special import comb\n",
        "a = 6 * comb(35, 11) + 4 * comb(35, 10) + comb(35, 9)\n",
        "b = comb(39, 13)\n",
        "print(a/b)"
      ],
      "metadata": {
        "colab": {
          "base_uri": "https://localhost:8080/"
        },
        "id": "JHjXiz6jbf_b",
        "outputId": "6d3d5bf9-fecb-4108-8448-c07032915f91"
      },
      "execution_count": 27,
      "outputs": [
        {
          "output_type": "stream",
          "name": "stdout",
          "text": [
            "0.4073020388809862\n"
          ]
        }
      ]
    },
    {
      "cell_type": "markdown",
      "source": [
        "С другой стороны, если учесть, что условнaя вероятность того, что \"Восток\" получит ровно 1 туз будет $p_1 =  \\frac{{4 \\choose 1}{35 \\choose 12}}{{39 \\choose 13}}$, а случай 0 тузов уже найден в a), то тот же ответ получим, вычислив $p_b = 1 - p_a - p_1$. Вычисление ниже:"
      ],
      "metadata": {
        "id": "6N_qrKvhj7X7"
      }
    },
    {
      "cell_type": "code",
      "source": [
        "p_a = 23*24*25*26/36/37/38/39\n",
        "p_1 = 4 * comb(35, 12) / comb(39, 13)\n",
        "print(1 - p_a - p_1)"
      ],
      "metadata": {
        "colab": {
          "base_uri": "https://localhost:8080/"
        },
        "id": "HOj4npYzlOV6",
        "outputId": "5a5f8bd4-d866-4209-ad31-f39bdaf1828d"
      },
      "execution_count": 28,
      "outputs": [
        {
          "output_type": "stream",
          "name": "stdout",
          "text": [
            "0.40730203888098626\n"
          ]
        }
      ]
    },
    {
      "cell_type": "markdown",
      "source": [
        "## **Задача № 6** 🏭🔩"
      ],
      "metadata": {
        "id": "3Gz9RjCenhtl"
      }
    },
    {
      "cell_type": "markdown",
      "source": [
        "### <mark>Условие.</mark>"
      ],
      "metadata": {
        "id": "R6dxG_PVoECY"
      }
    },
    {
      "cell_type": "markdown",
      "source": [
        "На заводе, изготовляющем болты, на долю машин $A$, $B$ и $C$ приходится соответственно 25, 35 и 40% всех изделий. В их продукции брак составляет соответственно 5, 4 и 2%. Случайно выбранный из продукции болт оказался дефектным. Каковы вероятности того, что он был изготовлен на машине $A$? на машине $B$? на машине $C$?"
      ],
      "metadata": {
        "id": "nlxaQ5rfoGLj"
      }
    },
    {
      "cell_type": "markdown",
      "source": [
        "#### <mark>Решение.</mark>"
      ],
      "metadata": {
        "id": "po8eRR1kpMim"
      }
    },
    {
      "cell_type": "markdown",
      "source": [
        "Рассмотрим следующие события:\n",
        "* $A$ {болт изготовлен на \n",
        "заводе $A$}\n",
        "* $B$ {болт изготовлен на \n",
        "заводе $B$}\n",
        "* $C$ {болт изготовлен на \n",
        "заводе $C$}\n",
        "* $H$ {болт бракован}\n",
        "\n",
        "Тогда по условию задачи нам известны следующие вероятности:\n",
        "\n",
        "* $P(A) = 0.25$\n",
        "* $P(B) = 0.35$\n",
        "* $P(C) = 0.40$\n",
        "* $P(H|A) = 0.05$\n",
        "* $P(H|B) = 0.04$\n",
        "* $P(H|C) = 0.02$\n",
        "\n",
        "Требуется найти условные вероятности:\n",
        "\n",
        "* $P(A|H)$\n",
        "* $P(B|H)$\n",
        "* $P(C|H)$\n",
        "\n",
        "Найдем первую из них. По определению $P(A|H) = \\frac{P(AH)}{P(H)}$. Учитывая, что $P(HA = AH) = P(H|A)P(A)$ получаем $P(A|H) = \\frac{P(H|A)P(A)}{P(H)}$. Осталось найти $P(H)$. Т.к. события $A$, $B$ и $C$ делят все пространство событий на непересекающиеся подмножества, то $P(H) = P(H|A)P(A) + P(H|B)P(B) + P(H|C)P(C)$.<br/>\n",
        "Таким образом $P(A|H) = \\frac{P(H|A)P(A)}{P(H|A)P(A) + P(H|B)P(B) + P(H|C)P(C)}$.<br/>\n",
        "Аналогично находятся две другие вероятности. Вычисления ниже:"
      ],
      "metadata": {
        "id": "kMH4fZjnpNTc"
      }
    },
    {
      "cell_type": "code",
      "source": [
        "p_a, p_b, p_c = 0.25, 0.35, 0.4\n",
        "p_ha, p_hb, p_hc =  0.05, 0.04, 0.02\n",
        "q_a, q_b, q_c = p_a*p_ha, p_b*p_hb, p_c*p_hc \n",
        "print(f'P(A|H) = 125/345 ~ {1/(1+q_b/q_a+q_c/q_a):.4}')\n",
        "print(f'P(B|H) = 140/345 ~ {1/(1+q_a/q_b+q_c/q_b):.4}')\n",
        "print(f'P(C|H) = 80/345 ~ {1/(1+q_a/q_c+q_b/q_c):.4}')"
      ],
      "metadata": {
        "colab": {
          "base_uri": "https://localhost:8080/"
        },
        "id": "FmjfjqxjuQ68",
        "outputId": "133b755e-4b83-4cf3-c577-2bf1e02f1e72"
      },
      "execution_count": 36,
      "outputs": [
        {
          "output_type": "stream",
          "name": "stdout",
          "text": [
            "P(A|H) = 125/345 ~ 0.3623\n",
            "P(B|H) = 140/345 ~ 0.4058\n",
            "P(C|H) = 80/345 ~ 0.2319\n"
          ]
        }
      ]
    },
    {
      "cell_type": "markdown",
      "source": [
        "## **Задача № 7** 🚶‍♀️🧍‍♂️🏃‍♀️🧍‍♀️👨‍🦯"
      ],
      "metadata": {
        "id": "SV4KzhyEyo5s"
      }
    },
    {
      "cell_type": "markdown",
      "source": [
        "### <mark>Условие.</mark>"
      ],
      "metadata": {
        "id": "fLamr2abzqfG"
      }
    },
    {
      "cell_type": "markdown",
      "source": [
        "Предположим, что 5 мужчин из 100 и 25 женщин из 10 000 являются дальтониками. Наугад выбранное лицо страдает дальтонизмом. Какова вероятность того, что это мужчина? (Считать мужчин и женщин одинаковое число)."
      ],
      "metadata": {
        "id": "pmh8PGr2zsxZ"
      }
    },
    {
      "cell_type": "markdown",
      "source": [
        "#### <mark>Решение.</mark>"
      ],
      "metadata": {
        "id": "atJlKgR60YXy"
      }
    },
    {
      "cell_type": "markdown",
      "source": [
        "Обозначим события:\n",
        "* $D$ - \"случайно выбранный человек - дальтоник\"\n",
        "* $M$ - \"случайно выбранный человек - мужчина\"\n",
        "* $W$ - \"случайно выбранный человек - женщина\". \n",
        "\n",
        "Тогда из условия:\n",
        "* $P(M) = P(W) = 0.5$ \n",
        "* $P(D|M) = 0.05$\n",
        "* $P(D|W) = 0.0025$\n",
        "\n",
        "Требуется найти $P(M|D)$.<br/>\n",
        "По определению $P(M|D) = P(MD)/P(D) = \\frac{P(M)P(D|M)}{P(D)}$.<br/>\n",
        "Т.к. события $M$ и $W$ делят все пространство элементарных событий на два непересекающихся множества, то $P(D) = P(D|M)P(M) + P(D|W)P(W)$<br/>\n",
        "Таким образом $P(M|D) = \\frac{P(M)P(D|M)}{P(D|M)P(M) + P(D|W)P(W)}$. Вычисления ниже:\n"
      ],
      "metadata": {
        "id": "1nFnsrmE0bO8"
      }
    },
    {
      "cell_type": "code",
      "source": [
        "p_m = p_w = 0.5\n",
        "p_dm, p_dw = 0.05, 0.0025\n",
        "q_m, q_w = p_m*p_dm, p_w*p_dw\n",
        "print(f'P(M|D) = 20/21 ~ {1/(1+q_w/q_m):.4}')\n"
      ],
      "metadata": {
        "colab": {
          "base_uri": "https://localhost:8080/"
        },
        "id": "91RS_oRw3Wqw",
        "outputId": "083526d2-db85-4da9-cfe5-cb10fb80a854"
      },
      "execution_count": 37,
      "outputs": [
        {
          "output_type": "stream",
          "name": "stdout",
          "text": [
            "P(M|D) = 20/21 ~ 0.9524\n"
          ]
        }
      ]
    },
    {
      "cell_type": "markdown",
      "source": [
        "## **Задача № 11** 👨‍👩‍👧‍👦\n"
      ],
      "metadata": {
        "id": "Vr0oSV4sXo8L"
      }
    },
    {
      "cell_type": "markdown",
      "source": [
        "### <mark>Условие.</mark>"
      ],
      "metadata": {
        "id": "p05nN5gCXuqc"
      }
    },
    {
      "cell_type": "markdown",
      "source": [
        "Пусть<a name=\"cite_ref-1\"></a>[<sup>[1]</sup>](#cite_note-1) вероятность $p_n$ того, что в семье ровно $n$ детей, равна $\\alpha p^n$ при $n\\ge 1$, и $p_0 = 1 -  \\alpha p (1 + p + p^2 + \\dots)$. Предположим, что все комбинации полов $n$ детей равновероятны. Показать, что при $k\\ge 1$ вероятность того, что в семье ровно $k$ мальчиков, равна ${2\\alpha p^k}/{(2-p)^{k+1}}$ \n",
        "<br/>\n",
        "<br/>\n",
        "<a name=\"cite_note-1\"></a>1. [^](#cite_ref-1) Согласно Лотка, американская семейная статистика удовлетворяет этой гипотезе с $p = 0.7358$. См. Lotka A.J. Théorie analytique des associations biologiques, v. 2, Actualites scientifiques et industrielles, No. 780(1939), Paris, Hermann et Cie. "
      ],
      "metadata": {
        "id": "Pc1x9RU9AhqK"
      }
    },
    {
      "cell_type": "markdown",
      "source": [
        "#### <mark>Решение.</mark>"
      ],
      "metadata": {
        "id": "ZMyzPTu_xK34"
      }
    },
    {
      "cell_type": "markdown",
      "source": [
        "1. Учитывая равновероятность комбинаций полов детей при заданном $n$ дискретное пространство элементарных событий $\\mathfrak{S}$ будет устроено следующим образом:\n",
        "\n",
        "| точка пространства <br/>(распределение полов) | вероятность |\n",
        "| --- | --- |\n",
        "| 0 | $p_0$ |\n",
        "| м | $\\frac{p_1}{2}$ |\n",
        "| д | $\\frac{p_1}{2}$ |\n",
        "| мм | $\\frac{p_2}{2^2}$ |\n",
        "| мд | $\\frac{p_2}{2^2}$ |\n",
        "| дм | $\\frac{p_2}{2^2}$ |\n",
        "| дд | $\\frac{p_2}{2^2}$ |\n",
        "| ммм | $\\frac{p_3}{2^3}$ |\n",
        "| ммд | $\\frac{p_3}{2^3}$ |\n",
        "| мдм | $\\frac{p_3}{2^3}$ |\n",
        "| мдд | $\\frac{p_3}{2^3}$|\n",
        "| дмм | $\\frac{p_3}{2^3}$|\n",
        "| дмд | $\\frac{p_3}{2^3}$|\n",
        "| ддм | $\\frac{p_3}{2^3}$|\n",
        "| ддд | $\\frac{p_3}{2^3}$|\n",
        "| и т.д. ...|...|\n",
        "| ... |... |\n",
        "\n",
        "<br/><br/>\n",
        "2. Сначала найдем искомую вероятность $P_k$ для случая $k=1$.\n",
        "<br/><br/>\n",
        "Вероятность того, что в семье ровно 1 мальчик будет складываться из суммы вероятностей точек $\\mathfrak{S}$, в обозначении которых буква 'м' входит ровно 1 раз. Т.е.:<br/>\n",
        "$P_1 = \\alpha (\\frac{1}{2}p + \\frac{2}{2^2}p^2 + \\frac{3}{2^3}p^3 + \\dots) = \\frac{\\alpha p}{2}\\sum\\limits_{i=0}^{\\infty}{{i+1 \\choose 1}(\\frac{p}{2})^i}\\space\\space\\space (*)$,<br/>\n",
        "где ${i+1 \\choose 1}$ биномиальный коэффициент. <br/><br/>\n",
        "Так как для расширенного биномиального коэффициента справедливо ${-r \\choose i} = (-1)^i{r+i-1 \\choose i}$, то разложение Тейлора функции $f(x) = (1+x)^{-2}$ имеет вид $f(x) = \\sum\\limits_{i=0}^{\\infty}{{-2 \\choose i}x^i} = \\sum\\limits_{i=0}^{\\infty}{{i+1 \\choose i}(-1)^i x^i} = \\sum\\limits_{i=0}^{\\infty}{{i+1 \\choose 1}(-1)^i x^i}\\space\\space\\space(**)$.<br/><br/>\n",
        "Заметим также, что $(*)$ можно переписать в виде:<br/>\n",
        "$P_1 = \\frac{\\alpha p}{2}\\sum\\limits_{i=0}^{\\infty}{{i+1 \\choose 1}(-1)^i(-\\frac{p}{2})^i}$<br/><br/>Учитывая $(**)$ получаем:<br/>\n",
        "$P_1 = \\frac{\\alpha p}{2}(1 - \\frac{p}{2})^{-2} = 2\\alpha p/(2 - p)^2$\n",
        "<br/><br/>\n",
        "3. По аналогии рассмотрим теперь $P_2$. Вероятность того, что в семье ровно 2 мальчика будет складываться из суммы вероятностей точек $\\mathfrak{S}$, в обозначении которых буква 'м' встречается дважды. Т.е.:<br/>\n",
        "$P_2 = \\alpha\\left({2 \\choose 2}\\left(\\frac{p}{2}\\right)^2 + {3 \\choose 2}\\left(\\frac{p}{2}\\right)^3 + \\dots \\right) = \\frac{\\alpha p^2}{4}\\sum\\limits_{i=0}^{\\infty}{{i+2 \\choose 2}\\left(\\frac{p}{2}\\right)^i} = \\frac{\\alpha p^2}{4}\\sum\\limits_{i=0}^{\\infty}{{i+2 \\choose 2}(-1)^i\\left(-\\frac{p}{2}\\right)^i}$<br/><br/>\n",
        "С другой стороны:<br/>\n",
        "$(1+x)^{-3} = \\sum\\limits_{i=0}^{\\infty}{{-3 \\choose i}x^i} = \\sum\\limits_{i=0}^{\\infty}{{i+2 \\choose 2}(-1)^i x^i}$<br/>\n",
        "Поэтому:<br/>\n",
        "$P_2 = \\frac{\\alpha p^2}{4}\\left(1 - \\frac{p}{2}\\right)^{-3} = 2\\alpha p^2/(2 - p)^3$<br/><br/>\n",
        "4. И наконец рассмотрим общий случай $P_k$:<br/>\n",
        "$P_k = \\alpha\\left({k \\choose k}\\left(\\frac{p}{2}\\right)^k + {k+1 \\choose k}\\left(\\frac{p}{2}\\right)^{k+1} + \\dots \\right) = \\frac{\\alpha p^k}{2^k}\\sum\\limits_{i=0}^{\\infty}{{i+k \\choose k}(-1)^i\\left(-\\frac{p}{2}\\right)^i}$<br/>\n",
        "И т.к.:<br/>\n",
        "$(1+x)^{-(k+1)} = \\sum\\limits_{i=0}^{\\infty}{{i+k \\choose k}(-1)^i x^i}$,<br/>\n",
        "то:<br/>\n",
        "$P_k = \\frac{\\alpha p^k}{2^k}\\left(1 - \\frac{p}{2}\\right)^{-(k+1)} = 2\\alpha p^k/(2 - p)^{k+1}$, что и требовалось показать."
      ],
      "metadata": {
        "id": "gwK4HprRAoTU"
      }
    },
    {
      "cell_type": "code",
      "source": [],
      "metadata": {
        "id": "jIcm_lSlZqrT"
      },
      "execution_count": null,
      "outputs": []
    },
    {
      "cell_type": "markdown",
      "source": [
        "# **Глава VI.<br/>Биномиальное распределение и распределение Пуассона.**"
      ],
      "metadata": {
        "id": "62ebUR0Pjcw6"
      }
    },
    {
      "cell_type": "markdown",
      "source": [
        "## **Задача № 1** 👨‍👩‍👧‍👦"
      ],
      "metadata": {
        "id": "X1H-jZ1A658d"
      }
    },
    {
      "cell_type": "markdown",
      "source": [
        "### <mark>Условие.</mark>"
      ],
      "metadata": {
        "id": "vYcAkf5_7AtD"
      }
    },
    {
      "cell_type": "markdown",
      "source": [
        "Предполагая все комбинации полов детей равновероятными, определить, какую долю семей с \n",
        "шестью детьми будут составлять семьи с тремя мальчиками и тремя девочками."
      ],
      "metadata": {
        "id": "9rPlIDZt7D6q"
      }
    },
    {
      "cell_type": "markdown",
      "source": [
        "#### <mark>Решение.</mark>"
      ],
      "metadata": {
        "id": "lLEfxCA07nHh"
      }
    },
    {
      "cell_type": "markdown",
      "source": [
        "Будем считать, что рождение очередного ребенка в семье - это испытание Бернулли в серии из $n = 6$ испытаний. Пускай успех - это рождение мальчика. Т.к. все комбинации полов детей равновероятны, то вероятность успеха $p = 0.5$. Требуется найти вероятность $k = 3$ успехов, т.е. $b(3; 6, 0.5) = {6 \\choose 3}\\cdot 0.5^3\\cdot 0.5^3$. Вычисления ниже:"
      ],
      "metadata": {
        "id": "4Vzmfo2q7phW"
      }
    },
    {
      "cell_type": "code",
      "source": [
        "print(f'5/16 = {20*(0.5)**6}')"
      ],
      "metadata": {
        "colab": {
          "base_uri": "https://localhost:8080/"
        },
        "id": "ahmSbzXm8wyS",
        "outputId": "c6530e5b-6875-42c0-91c6-361677e808e8"
      },
      "execution_count": 42,
      "outputs": [
        {
          "output_type": "stream",
          "name": "stdout",
          "text": [
            "5/16 = 0.3125\n"
          ]
        }
      ]
    },
    {
      "cell_type": "markdown",
      "source": [
        "## **Задача № 2** 🃏"
      ],
      "metadata": {
        "id": "Rg_PuWBUAp59"
      }
    },
    {
      "cell_type": "markdown",
      "source": [
        "### <mark>Условие.</mark>"
      ],
      "metadata": {
        "id": "7_ZWRKqUA2sy"
      }
    },
    {
      "cell_type": "markdown",
      "source": [
        "Игрок в бридж при трех последовательных сдачах не получил туза. Есть ли у него основания жаловаться на невезение."
      ],
      "metadata": {
        "id": "pgRsjM-ZA41S"
      }
    },
    {
      "cell_type": "markdown",
      "source": [
        "#### <mark>Решение.</mark>"
      ],
      "metadata": {
        "id": "Rit8VirYBXda"
      }
    },
    {
      "cell_type": "markdown",
      "source": [
        "Будем считать каждую сдачу испытанием Бернулли в серии из $n = 3$ испытаний. Пускай успехом будет отсутствие туза в сдаче, а $p$ вероятность успеха, тогда вероятность события, которое произошло с игроком - это $k = 3$ успеха в серии из $n = 3$ испытаний, т.е. $b(3;3,p) = p^3$. Найдем $p$.<br/>\n",
        "Всего различных вариантов сдач для игрока будет $N = {52 \\choose 13}$ (*кол-во способов выбрать 13 карт из 52*), а вариантов сдач без туза будет $N_0 = {48 \\choose 13}$ (*кол-во сопособов выбрать 13 карт из 48 (колода без тузов)*). Т.к. все сдачи равновероятны, то $p = N_0/N = \\frac{36\\cdot 37\\cdot 38\\cdot 39}{49\\cdot 50\\cdot 51\\cdot 52}$. Таким образом вероятность события, которое случилось с игроком будет: $\\left(\\frac{36\\cdot 37\\cdot 38\\cdot 39}{49\\cdot 50\\cdot 51\\cdot 52}\\right)^3$. Вычисления ниже:"
      ],
      "metadata": {
        "id": "n6J5DSErBZX5"
      }
    },
    {
      "cell_type": "code",
      "source": [
        "p = (36*37*38*39/49/50/51/52) ** 3\n",
        "print(f'p ~ {p:.3}')"
      ],
      "metadata": {
        "colab": {
          "base_uri": "https://localhost:8080/"
        },
        "id": "RkASfMbpFF_j",
        "outputId": "22cf8ae4-aa13-4d21-bce8-6d6b2b6b01c4"
      },
      "execution_count": 52,
      "outputs": [
        {
          "output_type": "stream",
          "name": "stdout",
          "text": [
            "p ~ 0.028\n"
          ]
        }
      ]
    },
    {
      "cell_type": "markdown",
      "source": [
        "Как можно видеть событие весьма редкое, случается в среднем примерно в 3 сдачах из 100."
      ],
      "metadata": {
        "id": "1OBCi-L1ZAZ7"
      }
    },
    {
      "cell_type": "markdown",
      "source": [
        "## **Задача № 3** 🔢"
      ],
      "metadata": {
        "id": "vywNbX27bz2o"
      }
    },
    {
      "cell_type": "markdown",
      "source": [
        "### <mark>Условие.</mark>"
      ],
      "metadata": {
        "id": "aJfnsgdVcV4i"
      }
    },
    {
      "cell_type": "markdown",
      "source": [
        "Сколько случайных цифр нужно взять, чтобы вероятность появления среди них цифры $7$ была не меньше $9/10$."
      ],
      "metadata": {
        "id": "q-mpen_1cX1r"
      }
    },
    {
      "cell_type": "markdown",
      "source": [
        "#### <mark>Решение.</mark>"
      ],
      "metadata": {
        "id": "Q0jMYHl2csJ3"
      }
    },
    {
      "cell_type": "markdown",
      "source": [
        "Будем считать ряд случайных цифр серией $n$ испытаний Бернулли. Считая появление любой цифры из $10$ возможных равновероятным, а появление цифры $7$ успехом, получим, что вероятность успеха будет $p = 0.1$. Если $p_0$ - это вероятность $k = 0$ успехов, то искомая вероятность $P_7 = 1 - p_0$. При этом $p_0 = b(0; n, p) = (1 - p)^n $. Т.к. $P_7 \\ge 9/10$, то получаем:<br/>\n",
        "$1 - (1 - p)^n \\ge 9/10 \\Rightarrow n \\ge \\frac{\\ln 0.1}{\\ln 0.9}$. Вычисление ниже:\n"
      ],
      "metadata": {
        "id": "JGw44BjPcufN"
      }
    },
    {
      "cell_type": "code",
      "source": [
        "from math import log, ceil\n",
        "print(f'n >= {ceil(log(0.1)/log(0.9))}')"
      ],
      "metadata": {
        "colab": {
          "base_uri": "https://localhost:8080/"
        },
        "id": "8K5yhDJDe8II",
        "outputId": "e6062c55-9032-4901-ab34-bf46d81b9642"
      },
      "execution_count": 66,
      "outputs": [
        {
          "output_type": "stream",
          "name": "stdout",
          "text": [
            "n >= 22\n"
          ]
        }
      ]
    },
    {
      "cell_type": "markdown",
      "source": [
        "## **Задача № 4** 🃏"
      ],
      "metadata": {
        "id": "naz8m4FZm40H"
      }
    },
    {
      "cell_type": "markdown",
      "source": [
        "### <mark>Условие.</mark>"
      ],
      "metadata": {
        "id": "lnt69T9qnAEZ"
      }
    },
    {
      "cell_type": "markdown",
      "source": [
        "Сколько раз нужно сдать колоду карт для игр в бридж (сдачи независимы), чтобы вероятность того, что фиксированный игрок по меньшей мере один раз получит четыре туза, была не меньше $1/2$. Решить задачу и в том случае, когда игрок заранее не фиксируется."
      ],
      "metadata": {
        "id": "yBWDJsj1nCln"
      }
    },
    {
      "cell_type": "markdown",
      "source": [
        "#### <mark>Решение.</mark>"
      ],
      "metadata": {
        "id": "ur21M5RXn1PX"
      }
    },
    {
      "cell_type": "markdown",
      "source": [
        "Будем рассматривать серию сдач как серию $n$ испытаний Бернулли. Успехом будем считать, то что фиксированный игрок на сдаче получил 4 туза. Считая, что любая сдача равновероятна, вероятность успеха будет $p = \\frac{{4 \\choose 4}{48 \\choose 9}}{{52 \\choose 13}} = \\frac{10\\cdot 11\\cdot 12\\cdot 13}{49\\cdot 50\\cdot 51\\cdot 52}$ (*в числителе кол-во успешных сдач: число способов выбрать 4 туза из 4-х умноженное на кол-во способов выбрать остальные 9 карт из 48-ми (колода без тузов), а в знаменателе все возможные сдачи: число способов выбрать 13 карт из 52-х*).<br/>\n",
        "Если $p_0$ - это вероятность получить $k = 0$ успехов в серии из $n$ испытаний, то $p_0 = b(0; n, p) = (1 - p)^n$. При этом $1 - p_0$ - это вероятность того, что игрок хотя бы раз получит 4 туза на сдаче. Таким образом, получаем:<br/>\n",
        "$1 - p_0 \\ge 0.5 \\Rightarrow n \\ge \\frac{\\ln 0.5}{\\ln(1-p)}$, где $p = \\frac{10\\cdot 11\\cdot 12\\cdot 13}{49\\cdot 50\\cdot 51\\cdot 52}$.<br/>\n",
        "В случае, когда игрок не фиксирован вероятность успеха будет в 4 раза больше (по числу игроков), т.е. $4p$ и поэтому искомое кол-во испытаний будет $n_4 \\ge \\frac{\\ln 0.5}{\\ln(1-4*p)}$. Вычисления ниже:"
      ],
      "metadata": {
        "id": "jOQLT--An4os"
      }
    },
    {
      "cell_type": "code",
      "source": [
        "from math import log, ceil\n",
        "p = 10*11*12*13/49/50/51/52\n",
        "print(f'Игрок фиксирован: n >= {ceil(log(0.5)/log(1-p))}')\n",
        "print(f'Игрок не фиксирован: n_4 >= {ceil(log(0.5)/log(1-4 * p))}')"
      ],
      "metadata": {
        "colab": {
          "base_uri": "https://localhost:8080/"
        },
        "id": "-AJLOrmmn5Tf",
        "outputId": "73e13ca7-d47c-4a6d-e813-596990122f50"
      },
      "execution_count": 70,
      "outputs": [
        {
          "output_type": "stream",
          "name": "stdout",
          "text": [
            "Игрок фиксирован: n >= 263\n",
            "Игрок не фиксирован: n_4 >= 66\n"
          ]
        }
      ]
    },
    {
      "cell_type": "markdown",
      "source": [
        "## **Задача № 5** 🎯"
      ],
      "metadata": {
        "id": "HKHfmavFyLQ1"
      }
    },
    {
      "cell_type": "markdown",
      "source": [
        "### <mark>Условие.</mark>"
      ],
      "metadata": {
        "id": "HvJcvno6ypDn"
      }
    },
    {
      "cell_type": "markdown",
      "source": [
        "Пусть вероятность попадания в цель равна $1/5$ и производится $10$ независимых выстрелов. Какова вероятность попадания в цель по меньшей мере дважды?"
      ],
      "metadata": {
        "id": "Vt_1e44dysRH"
      }
    },
    {
      "cell_type": "markdown",
      "source": [
        "#### <mark>Решение.</mark>"
      ],
      "metadata": {
        "id": "sh6wZoeyzEbA"
      }
    },
    {
      "cell_type": "markdown",
      "source": [
        "Будем считать серию из $10$ выстрелов испытаниями Бернулли. Вероятность успеха $p = 0.2$. А искомая вероятность $p_2 = 1 - b(0; 10, p) - b(1; 10, p) = 1 - (0.8)^{10} - {10 \\choose 1}\\cdot 0.2\\cdot (0.8)^9$. Вычисления ниже:"
      ],
      "metadata": {
        "id": "IIz7jgYYzGb9"
      }
    },
    {
      "cell_type": "code",
      "source": [
        "print(f'p_2 ~ {1 - (0.8) ** 10 - 2*(0.8) ** 9:.4}')"
      ],
      "metadata": {
        "colab": {
          "base_uri": "https://localhost:8080/"
        },
        "id": "DiEhkpcf1VMS",
        "outputId": "275ab01a-6915-4017-c33d-a9785303b280"
      },
      "execution_count": 75,
      "outputs": [
        {
          "output_type": "stream",
          "name": "stdout",
          "text": [
            "p_2 ~ 0.6242\n"
          ]
        }
      ]
    },
    {
      "cell_type": "markdown",
      "source": [
        "## **Задача № 7** 🃏"
      ],
      "metadata": {
        "id": "8qSZFe1MkKE3"
      }
    },
    {
      "cell_type": "markdown",
      "source": [
        "### <mark>Условие.</mark>"
      ],
      "metadata": {
        "id": "QjAvjcIElZ2L"
      }
    },
    {
      "cell_type": "markdown",
      "source": [
        "Найти вероятность того, что среди 13 карт, наугад выбранных из колоды в 52 карты, имеются ровно 2 карты красной масти. Сравнить ее с соответствующей вероятностью для испытаний Бернулли с $p = 1/2$."
      ],
      "metadata": {
        "id": "Jqty-rSOAz0t"
      }
    },
    {
      "cell_type": "markdown",
      "source": [
        "#### <mark>Решение.</mark>"
      ],
      "metadata": {
        "id": "PCTpxUV6mSKO"
      }
    },
    {
      "cell_type": "markdown",
      "source": [
        "Всего элементарных событий ровно столько сколькими способами можно выбрать 13 карт из 52-х, т.е. ${52 \\choose 13}$. Событий, вероятность которых необходимо найти, будет равно кол-ву способов выбрать 2 красных карты из 26 возможных красных помноженное на кол-во способов выбрать оставшиеся 11 черных карты из 26 возможных черных или ${26 \\choose 2}{26 \\choose 11}$. Считая все элементарные события равновероятными получаем, что искомая вероятность: $\\frac{{26 \\choose 2}{26 \\choose 11}}{52 \\choose 13}$. Вычисление ниже:"
      ],
      "metadata": {
        "id": "e_rwu4ctA69E"
      }
    },
    {
      "cell_type": "code",
      "source": [
        "from math import factorial\n",
        "def comb(n, k):\n",
        "  return factorial(n) // factorial(n-k) // factorial(k)\n",
        "\n",
        "print(comb(26, 2) * comb(26, 11) / comb(52, 13))"
      ],
      "metadata": {
        "colab": {
          "base_uri": "https://localhost:8080/"
        },
        "id": "xcCFwBLUooki",
        "outputId": "8696b426-f5c3-4358-ffef-d14c6a52c7a8"
      },
      "execution_count": null,
      "outputs": [
        {
          "output_type": "stream",
          "name": "stdout",
          "text": [
            "0.003954249420408755\n"
          ]
        }
      ]
    },
    {
      "cell_type": "markdown",
      "source": [
        "Если допустить, что очередной выбор карты из колоды является испытанием Бернулли с вероятностью успеха $p=1/2$, то искомая вероятность будет равна $b(2;13, 1/2)$. Вычисление ниже."
      ],
      "metadata": {
        "id": "kpGBYd_qq2uW"
      }
    },
    {
      "cell_type": "code",
      "source": [
        "from scipy.stats import binom\n",
        "print(binom.pmf(2, 13, 0.5))"
      ],
      "metadata": {
        "colab": {
          "base_uri": "https://localhost:8080/"
        },
        "id": "RFSOgslLrjRc",
        "outputId": "0f9eab65-97e5-4c1d-f46d-97920d3107d7"
      },
      "execution_count": null,
      "outputs": [
        {
          "output_type": "stream",
          "name": "stdout",
          "text": [
            "0.009521484375\n"
          ]
        }
      ]
    },
    {
      "cell_type": "markdown",
      "source": [
        "Как видно, второй ответ существенно отличается от первого. Ведь в данном случае выбор карты из колоды испытанием Бернулли не явялется, т.к. вероятность успеха очередного выбора зависит от результатов предыдущих испытаний."
      ],
      "metadata": {
        "id": "8MXUrDsLBRGZ"
      }
    },
    {
      "cell_type": "markdown",
      "source": [
        "## **Задача № 11** 📖"
      ],
      "metadata": {
        "id": "3rAwTVkfEFfx"
      }
    },
    {
      "cell_type": "markdown",
      "source": [
        "### <mark>Условие.</mark>"
      ],
      "metadata": {
        "id": "T_SDjwm6Ef7S"
      }
    },
    {
      "cell_type": "markdown",
      "source": [
        "Книга в 500 страниц содержит 500 опечаток. Оценить вероятность того, что на заданной странице не менее трех опечаток."
      ],
      "metadata": {
        "id": "jvJeI243Ei5L"
      }
    },
    {
      "cell_type": "markdown",
      "source": [
        "#### <mark>Решение.</mark>"
      ],
      "metadata": {
        "id": "5QBySKBYE4iu"
      }
    },
    {
      "cell_type": "markdown",
      "source": [
        "Наличие или отсутствие опечаток на странице книги можно считать пространственным распределением случайных событий в объеме $t$ (в нашем случае $t$ - это объем одной страницы). При этом допустимо считать, что:<br/>\n",
        "1) при малых размерах $t$ вероятность иметь более одной опечатки мала по сравнению с $t$<br/>\n",
        "2) неперекрывающиеся области страницы взаимно независимы.<br/>\n",
        "Поэтому вероятность допустимо оценить с помощью распределения Пуассона $p(k; \\lambda t)$.<br/><br/>\n",
        "Оценим $\\lambda t$. Имеется $N = 500$ независимых экспериментов (по количеству страниц в книге). Общее число событий (опечаток) наблюдаемых во всех $N$ экспериментах $T = 500$. Поэтому $\\lambda t \\approx T/N = 1$. Таким образом искомая оценка вероятности будет равна $1 - p(0; 1) - p(1; 1) - p(2; 1)$. Вычисление ниже:"
      ],
      "metadata": {
        "id": "2ly5Je_sE5g8"
      }
    },
    {
      "cell_type": "code",
      "source": [
        "from scipy.stats import poisson\n",
        "lam, ps = 1, 1\n",
        "for k in range(3):\n",
        "    ps -= poisson.pmf(k, lam)\n",
        "print(ps)"
      ],
      "metadata": {
        "colab": {
          "base_uri": "https://localhost:8080/"
        },
        "id": "c0IUAr37JPcZ",
        "outputId": "83e231ca-21d4-41af-fdb4-bcd17fdf368b"
      },
      "execution_count": null,
      "outputs": [
        {
          "output_type": "stream",
          "name": "stdout",
          "text": [
            "0.08030139707139419\n"
          ]
        }
      ]
    },
    {
      "cell_type": "markdown",
      "source": [
        "## **Задача № 14** 🍪"
      ],
      "metadata": {
        "id": "EBKyIlRlN27R"
      }
    },
    {
      "cell_type": "markdown",
      "source": [
        "### <mark>Условие.</mark>"
      ],
      "metadata": {
        "id": "73xkwCtJOm-Y"
      }
    },
    {
      "cell_type": "markdown",
      "source": [
        "Оценить среднее число изюминок, которое должно быть в одной булочке, чтобы не более одной булочки из ста было без изюма."
      ],
      "metadata": {
        "id": "S5UEm_ZBOqsS"
      }
    },
    {
      "cell_type": "markdown",
      "source": [
        "#### <mark>Решение.</mark>"
      ],
      "metadata": {
        "id": "J8QpvzduPCOL"
      }
    },
    {
      "cell_type": "markdown",
      "source": [
        "Наличие или отсутствие изюминок в булочке можно считать пространственным распределением случайных событий в объеме $t$ (в нашем случае  $t$ - это объем одной булочки). При этом допустимо считать, что:<br/>\n",
        "1) при малых размерах  $t$  вероятность иметь более одной изюминки мала по сравнению с  $t$<br/>\n",
        "2) неперекрывающиеся области булочки взаимно независимы.<br/>\n",
        "Поэтому оценку кол-ва изюминок можно сделать с помощью распределения Пуассона  $p(k;λt)$. Параметр $\\lambda t$ оценивается как $T/N$, где $T$ это общее количество изюминок в $N$ булочках, т.е. $\\lambda t \\approx$ искомое среднее число изюминок. Обозначим его $\\lambda_t$. Тогда $p(k;\\lambda_t)$ есть вероятность, что в случайно выбранной булочке будет ровно $k$ изюминок. Так как требуется чтобы булочка без изюминок встречалась не чаще, чем 1 раз на 100, то $p(0, \\lambda_t)\\le 0.01$, т.е. $e^{-\\lambda_t}\\le 0.01$. Таким образом $\\lambda_t \\ge -\\ln{0.01}$. Вычисление ниже:"
      ],
      "metadata": {
        "id": "Q8l5cKQePDR7"
      }
    },
    {
      "cell_type": "code",
      "source": [
        "from math import log\n",
        "print(-log(0.01))"
      ],
      "metadata": {
        "colab": {
          "base_uri": "https://localhost:8080/"
        },
        "id": "vsYGzn40nGMl",
        "outputId": "4ffb7ca8-0ebb-4c71-b7fe-341ed4b9a576"
      },
      "execution_count": null,
      "outputs": [
        {
          "output_type": "stream",
          "name": "stdout",
          "text": [
            "4.605170185988091\n"
          ]
        }
      ]
    },
    {
      "cell_type": "markdown",
      "source": [
        "Т.е. среднее число изюминок можно оценить как $\\ge 5$"
      ],
      "metadata": {
        "id": "ht5US08Oneq7"
      }
    }
  ]
}